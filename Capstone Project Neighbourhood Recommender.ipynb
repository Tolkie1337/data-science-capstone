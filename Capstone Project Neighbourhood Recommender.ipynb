{
 "cells": [
  {
   "cell_type": "code",
   "execution_count": null,
   "metadata": {},
   "outputs": [],
   "source": [
    "url2 = \"https://api.foursquare.com/v2/venues/explore\"\n",
    "\n",
    "params2 = {\n",
    "    \"client_id\": CLIENT_ID,\n",
    "    \"client_secret\": CLIENT_SECRET,\n",
    "    \"v\": VERSION,\n",
    "    \"ll\": \"48.15083,11.52515\",\n",
    "    \"radius\": 2000,\n",
    "    \"limit\": 10,\n",
    "    \"section\": \"trending\"\n",
    "}\n",
    "\n",
    "results2 = requests.get(url2, params2).json()\n",
    "\n",
    "results2[\"response\"][\"groups\"][0][\"items\"]"
   ]
  }
 ],
 "metadata": {
  "kernelspec": {
   "display_name": "Python 3",
   "language": "python",
   "name": "python3"
  },
  "language_info": {
   "codemirror_mode": {
    "name": "ipython",
    "version": 3
   },
   "file_extension": ".py",
   "mimetype": "text/x-python",
   "name": "python",
   "nbconvert_exporter": "python",
   "pygments_lexer": "ipython3",
   "version": "3.7.3"
  }
 },
 "nbformat": 4,
 "nbformat_minor": 2
}
